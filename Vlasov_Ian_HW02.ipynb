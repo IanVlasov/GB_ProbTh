{
 "cells": [
  {
   "cell_type": "code",
   "execution_count": 45,
   "metadata": {},
   "outputs": [],
   "source": [
    "import numpy as np\n",
    "import matplotlib.pyplot as plt\n",
    "from scipy.special import erf"
   ]
  },
  {
   "cell_type": "code",
   "execution_count": 2,
   "metadata": {},
   "outputs": [],
   "source": [
    "def arrangements(n: int, k: int) -> int:\n",
    "    \"\"\"Число размещений.\n",
    "    \"\"\"\n",
    "    \n",
    "    return np.math.factorial(n) // np.math.factorial(n - k)\n",
    "\n",
    "\n",
    "def permutations(n: int) -> int:\n",
    "    \"\"\"Число перестановок.\n",
    "    \"\"\"\n",
    "    \n",
    "    return np.math.factorial(n)\n",
    "\n",
    "def combinations(n: int, k: int) -> int:\n",
    "    \"\"\"Число сочетаний.\n",
    "    \"\"\"\n",
    "    \n",
    "    return np.math.factorial(n) // (np.math.factorial(k) * np.math.factorial(n - k))"
   ]
  },
  {
   "cell_type": "markdown",
   "metadata": {},
   "source": [
    "# Урок 2"
   ]
  },
  {
   "cell_type": "markdown",
   "metadata": {},
   "source": [
    "## Дискретные случайные величины. Закон распределения вероятностей. Биномиальный закон распределения. Распределение Пуассона"
   ]
  },
  {
   "cell_type": "markdown",
   "metadata": {},
   "source": [
    "### Задача 1"
   ]
  },
  {
   "cell_type": "markdown",
   "metadata": {},
   "source": [
    "Контрольная работа состоит из пяти вопросов. На каждый вопрос приведено четыре варианта ответа, один из которых правильный. Составьте закон распределения числа правильных ответов при простом угадывании. Найдите $M(X)$, $D(X)$."
   ]
  },
  {
   "cell_type": "markdown",
   "metadata": {},
   "source": [
    "Решение:\n",
    "\n",
    "Число правильных ответов может принимать значения $0, 1, 2, 3, 4, 5$\n",
    "\n",
    "В то же время из условия задачи становится ясно, что случайная величина имеет биномиальный закон распределения: мы 5 раз повторяем выбор ответа, и в каждом случае имеем вероятность $p = 0.25$ выбрать правильный\n",
    "\n",
    "Тогда вероятности определяются формулой Бернулли:\n",
    "\n",
    "$$\n",
    "P_{n}^{k}=C_{n}^{k} p^{k} q^{n-k}\n",
    "$$\n",
    "\n",
    "А закон распределения имеет вид:\n",
    "\n",
    "|  0   |  1   |  2   |  3   |  4   |  5   |\n",
    "|------|------|------|------|------|------|\n",
    "|0.237 |0.396 |0.264 |0.088 |0.015 |0.001 |\n",
    "\n",
    "Математические ожидание:\n",
    "\n",
    "$$\n",
    "M(X) = np = 5 \\cdot 0.25 = 1.25\n",
    "$$\n",
    "\n",
    "Дисперсия:\n",
    "\n",
    "$$\n",
    "D(X) = np(1-p) = 5 \\cdot 0.25 \\cdot 0.75 = 0.3125\n",
    "$$"
   ]
  },
  {
   "cell_type": "code",
   "execution_count": 5,
   "metadata": {},
   "outputs": [],
   "source": [
    "def bernulli(n: int, k: int, p):\n",
    "    return combinations(n, k) * p ** k * (1 - p) ** (n - k)"
   ]
  },
  {
   "cell_type": "code",
   "execution_count": 8,
   "metadata": {},
   "outputs": [
    {
     "name": "stdout",
     "output_type": "stream",
     "text": [
      "0.2373046875\n",
      "0.3955078125\n",
      "0.263671875\n",
      "0.087890625\n",
      "0.0146484375\n",
      "0.0009765625\n",
      "1.0\n"
     ]
    }
   ],
   "source": [
    "x0 = bernulli(5, 0, 0.25)\n",
    "x1 = bernulli(5, 1, 0.25)\n",
    "x2 = bernulli(5, 2, 0.25)\n",
    "x3 = bernulli(5, 3, 0.25)\n",
    "x4 = bernulli(5, 4, 0.25)\n",
    "x5 = bernulli(5, 5, 0.25)\n",
    "\n",
    "print(x0)\n",
    "print(x1)\n",
    "print(x2)\n",
    "print(x3)\n",
    "print(x4)\n",
    "print(x5)\n",
    "\n",
    "print(x0 + x1 + x2 + x3 + x4 + x5)"
   ]
  },
  {
   "cell_type": "code",
   "execution_count": 12,
   "metadata": {},
   "outputs": [
    {
     "data": {
      "text/plain": [
       "[<matplotlib.lines.Line2D at 0x10f68dcc0>]"
      ]
     },
     "execution_count": 12,
     "metadata": {},
     "output_type": "execute_result"
    },
    {
     "data": {
      "image/png": "[encoded data removed]",
      "text/plain": [
       "<Figure size 432x288 with 1 Axes>"
      ]
     },
     "metadata": {},
     "output_type": "display_data"
    }
   ],
   "source": [
    "x_values = np.arange(0, 6)\n",
    "x_prob = np.array([x0, x1, x2, x3, x4, x5])\n",
    "\n",
    "plt.plot(x_values, x_prob)"
   ]
  },
  {
   "cell_type": "markdown",
   "metadata": {},
   "source": [
    "### Задача 2"
   ]
  },
  {
   "cell_type": "markdown",
   "metadata": {},
   "source": [
    "Вероятность попадания в цель при одном выстреле равна 0.01. Какова вероятность того, что число попаданий при 200 выстрелах будет не менее 5 и не более 10?"
   ]
  },
  {
   "cell_type": "markdown",
   "metadata": {},
   "source": [
    "Решение:\n",
    "\n",
    "Если допустить, что, формально, число выстрелов может быть и больше $200$, становится ясно, что для решения этой задачи стоит использовать распределение Пуассона, которое как раз применимо для больших значений $n$ (провел аналогию с задачей о письмах из вебинара).\n",
    "\n",
    "Рассчитаем отдельно вероятности ровно $5, 6, 7, 8, 9$ и $10$ попаданий, с помощью приближенной формулы:\n",
    "\n",
    "$$\n",
    "P(X=k)=\\frac{a^{k} e^{-a}}{k !}, a = np\n",
    "$$\n",
    "\n",
    "Так как количество пападаний это несовместное событие (например, мы не можем одновременно из 200 выстрелов попасть и 5 и 6 раз), общую вероятность найдем простым суммированием найденных вероятностей"
   ]
  },
  {
   "cell_type": "code",
   "execution_count": 51,
   "metadata": {},
   "outputs": [],
   "source": [
    "def poisson_prob(n, p, k):\n",
    "    prob = ((n * p) ** k * np.exp(-(n * p))) / np.math.factorial(k)\n",
    "    return prob"
   ]
  },
  {
   "cell_type": "code",
   "execution_count": 52,
   "metadata": {},
   "outputs": [
    {
     "name": "stdout",
     "output_type": "stream",
     "text": [
      "[3.60894089e-02 1.20298030e-02 3.43708656e-03 8.59271640e-04\n",
      " 1.90949253e-04 3.81898506e-05]\n"
     ]
    }
   ],
   "source": [
    "x_values = np.arange(5, 11)\n",
    "x_prob = np.array([])\n",
    "\n",
    "for item in x_values:\n",
    "    prob = poisson_prob(200, 0.01, item)\n",
    "    x_prob = np.append(x_prob, prob)\n",
    "    \n",
    "print(x_prob)"
   ]
  },
  {
   "cell_type": "code",
   "execution_count": 53,
   "metadata": {},
   "outputs": [
    {
     "name": "stdout",
     "output_type": "stream",
     "text": [
      "0.052644709119342686\n"
     ]
    }
   ],
   "source": [
    "print(np.sum(x_prob))"
   ]
  },
  {
   "cell_type": "markdown",
   "metadata": {},
   "source": [
    "### Задача 3"
   ]
  },
  {
   "cell_type": "markdown",
   "metadata": {},
   "source": [
    "В условиях предыдущей задачи сколько выстрелов нужно сделать чтобы быть уверенным с вероятностью 0.9, что хотя бы 10 раз будет совершено попадание?\n",
    "\n",
    "Подсказка. Как посчитать $P(X >= k)$ для величины X, имеющей распределение Пуассона? Здесь предстоит немножко покодить."
   ]
  },
  {
   "cell_type": "markdown",
   "metadata": {},
   "source": [
    "Решение:\n",
    "\n",
    "Напишем программу, которая будет вычислять сумму вероятностей попасть в мишень 9 и менее раз. Программе необходимо изменять число испытаний $n$ до тех пор пока единица минус сумма полученных вероятностей не будет больше либо равна 0.9 "
   ]
  },
  {
   "cell_type": "code",
   "execution_count": 56,
   "metadata": {},
   "outputs": [
    {
     "name": "stdout",
     "output_type": "stream",
     "text": [
      "Необходимо сделать не менее 1421 выстрелов. Вероятность составит 0.9001760722984115\n"
     ]
    }
   ],
   "source": [
    "def poisson_not_less_than_k(p_target, p_single, k):\n",
    "    n = k - 1\n",
    "    p_test = 0\n",
    "    while p_test < p_target:\n",
    "        n += 1\n",
    "        x_values = np.arange(0, 10)\n",
    "        p_sum = 0\n",
    "        for item in x_values:\n",
    "            p_sum += poisson_prob(n, p_single, item)\n",
    "        \n",
    "        p_test = 1 - p_sum\n",
    "        \n",
    "    print(f'Необходимо сделать не менее {n} выстрелов. Вероятность составит {p_test}')\n",
    "          \n",
    "poisson_not_less_than_k(0.9, 0.01, 10)"
   ]
  },
  {
   "cell_type": "code",
   "execution_count": null,
   "metadata": {},
   "outputs": [],
   "source": []
  }
 ],
 "metadata": {
  "kernelspec": {
   "display_name": "Python 3",
   "language": "python",
   "name": "python3"
  },
  "language_info": {
   "codemirror_mode": {
    "name": "ipython",
    "version": 3
   },
   "file_extension": ".py",
   "mimetype": "text/x-python",
   "name": "python",
   "nbconvert_exporter": "python",
   "pygments_lexer": "ipython3",
   "version": "3.7.3"
  }
 },
 "nbformat": 4,
 "nbformat_minor": 2
}
