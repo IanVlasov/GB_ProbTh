{
 "cells": [
  {
   "cell_type": "code",
   "execution_count": 86,
   "metadata": {},
   "outputs": [],
   "source": [
    "import numpy as np\n",
    "import pandas as pd\n",
    "import matplotlib.pyplot as plt\n",
    "from scipy.special import factorial"
   ]
  },
  {
   "cell_type": "markdown",
   "metadata": {},
   "source": [
    "## Описательная статистика. Качественные и количественные характеристики популяции. Графическое представление данных"
   ]
  },
  {
   "cell_type": "markdown",
   "metadata": {},
   "source": [
    "### Задача 1"
   ]
  },
  {
   "cell_type": "markdown",
   "metadata": {},
   "source": [
    "Даны значения зарплат из выборки выпускников: \n",
    "\n",
    "100, 80, 75, 77, 89, 33, 45, 25, 65, 17, 30, 24, 57, 55, 70, 75, 65, 84, 90, 150\n",
    "\n",
    "Без использования статистических функций вроде mean, std, var, посчитать среднее арифметическое, среднее квадратичное отклонение, смещенную и несмещенную оценки дисперсий для данной выборки.\n",
    "\n",
    "Можно затем посчитать те же значения с использованием статистических функций, чтобы проверить себя."
   ]
  },
  {
   "cell_type": "code",
   "execution_count": 11,
   "metadata": {},
   "outputs": [],
   "source": [
    "salaries = pd.Series([100, 80, 75, 77, 89, 33, 45, 25, 65, 17, 30, 24, 57, 55, 70, 75, 65, 84, 90, 150])"
   ]
  },
  {
   "cell_type": "code",
   "execution_count": 17,
   "metadata": {},
   "outputs": [
    {
     "name": "stdout",
     "output_type": "stream",
     "text": [
      "65.3\n",
      "65.3\n"
     ]
    }
   ],
   "source": [
    "mean_user = np.sum(salaries) / len(salaries)\n",
    "mean_func = salaries.mean()\n",
    "print(mean_user)\n",
    "print(mean_func)\n"
   ]
  },
  {
   "cell_type": "code",
   "execution_count": 24,
   "metadata": {},
   "outputs": [
    {
     "name": "stdout",
     "output_type": "stream",
     "text": [
      "30.823854398825596\n",
      "30.823854398825596\n"
     ]
    }
   ],
   "source": [
    "std_user = np.sqrt((np.sum((salaries - mean_user) ** 2)) / len(salaries))\n",
    "std_func = salaries.std(ddof=0)\n",
    "\n",
    "print(std_user)\n",
    "print(std_func)"
   ]
  },
  {
   "cell_type": "code",
   "execution_count": 25,
   "metadata": {},
   "outputs": [
    {
     "name": "stdout",
     "output_type": "stream",
     "text": [
      "950.11 950.11 1000.1157894736842 1000.1157894736842\n"
     ]
    }
   ],
   "source": [
    "var_user_biased = (np.sum((salaries - mean_user) ** 2)) / len(salaries)\n",
    "var_user_unbiased = (np.sum((salaries - mean_user) ** 2)) / (len(salaries) - 1)\n",
    "\n",
    "var_func_biased = salaries.var(ddof=0)\n",
    "var_func_unbiased = salaries.var(ddof=1)\n",
    "\n",
    "print(var_user_biased, var_func_biased, var_user_unbiased, var_func_unbiased)"
   ]
  },
  {
   "cell_type": "markdown",
   "metadata": {},
   "source": [
    "### Задача 2"
   ]
  },
  {
   "cell_type": "markdown",
   "metadata": {},
   "source": [
    "Для выборки из задачи 1 найти первый и третий квартили, интерквартильное расстояние. Найти выборсы в выборке, используя для этого \"усы\" из boxplot. В этой задаче можно использовать статистические функции."
   ]
  },
  {
   "cell_type": "code",
   "execution_count": 28,
   "metadata": {},
   "outputs": [
    {
     "name": "stdout",
     "output_type": "stream",
     "text": [
      "0.25    42.0\n",
      "0.75    81.0\n",
      "dtype: float64\n"
     ]
    }
   ],
   "source": [
    "quartiles = salaries.quantile([0.25, 0.75])\n",
    "print(quartiles)"
   ]
  },
  {
   "cell_type": "code",
   "execution_count": 34,
   "metadata": {},
   "outputs": [
    {
     "data": {
      "text/plain": [
       "39.0"
      ]
     },
     "execution_count": 34,
     "metadata": {},
     "output_type": "execute_result"
    }
   ],
   "source": [
    "IQR = quartiles[0.75] - quartiles[0.25]\n",
    "IQR"
   ]
  },
  {
   "cell_type": "code",
   "execution_count": 36,
   "metadata": {},
   "outputs": [
    {
     "data": {
      "text/plain": [
       "{'whiskers': [<matplotlib.lines.Line2D at 0x11f815ba8>,\n",
       "  <matplotlib.lines.Line2D at 0x11f8dfe80>],\n",
       " 'caps': [<matplotlib.lines.Line2D at 0x11f8ec470>,\n",
       "  <matplotlib.lines.Line2D at 0x11f8ec7b8>],\n",
       " 'boxes': [<matplotlib.lines.Line2D at 0x11f8dfa20>],\n",
       " 'medians': [<matplotlib.lines.Line2D at 0x11f8ecb00>],\n",
       " 'fliers': [<matplotlib.lines.Line2D at 0x11f8ece48>],\n",
       " 'means': []}"
      ]
     },
     "execution_count": 36,
     "metadata": {},
     "output_type": "execute_result"
    },
    {
     "data": {
      "image/png": "[encoded data removed]",
      "text/plain": [
       "<Figure size 432x288 with 1 Axes>"
      ]
     },
     "metadata": {},
     "output_type": "display_data"
    }
   ],
   "source": [
    "plt.boxplot(salaries)"
   ]
  },
  {
   "cell_type": "code",
   "execution_count": 37,
   "metadata": {},
   "outputs": [
    {
     "data": {
      "text/plain": [
       "-16.5"
      ]
     },
     "execution_count": 37,
     "metadata": {},
     "output_type": "execute_result"
    }
   ],
   "source": [
    "lower_bound = quartiles[0.25] - 1.5 * IQR\n",
    "lower_bound"
   ]
  },
  {
   "cell_type": "code",
   "execution_count": 38,
   "metadata": {},
   "outputs": [
    {
     "data": {
      "text/plain": [
       "139.5"
      ]
     },
     "execution_count": 38,
     "metadata": {},
     "output_type": "execute_result"
    }
   ],
   "source": [
    "upper_bound = quartiles[0.75] + 1.5 * IQR\n",
    "upper_bound"
   ]
  },
  {
   "cell_type": "code",
   "execution_count": 40,
   "metadata": {},
   "outputs": [
    {
     "data": {
      "text/plain": [
       "9      17\n",
       "11     24\n",
       "7      25\n",
       "10     30\n",
       "5      33\n",
       "6      45\n",
       "13     55\n",
       "12     57\n",
       "8      65\n",
       "16     65\n",
       "14     70\n",
       "2      75\n",
       "15     75\n",
       "3      77\n",
       "1      80\n",
       "17     84\n",
       "4      89\n",
       "18     90\n",
       "0     100\n",
       "19    150\n",
       "dtype: int64"
      ]
     },
     "execution_count": 40,
     "metadata": {},
     "output_type": "execute_result"
    }
   ],
   "source": [
    "salaries.sort_values()"
   ]
  },
  {
   "cell_type": "markdown",
   "metadata": {},
   "source": [
    "В вы борке только один выброс равный 150"
   ]
  },
  {
   "cell_type": "markdown",
   "metadata": {},
   "source": [
    "### Задача 3"
   ]
  },
  {
   "cell_type": "markdown",
   "metadata": {},
   "source": [
    "Для распределения Пуассона с параметром a = 5 найти теоретические (т.е. используя закон распределения, а не выборку) мат. ожидание, моду и медиану."
   ]
  },
  {
   "cell_type": "code",
   "execution_count": 96,
   "metadata": {},
   "outputs": [
    {
     "data": {
      "image/png": "[encoded data removed]",
      "text/plain": [
       "<Figure size 432x288 with 1 Axes>"
      ]
     },
     "metadata": {},
     "output_type": "display_data"
    }
   ],
   "source": [
    "t = np.arange(0, 20, 0.1)\n",
    "d = np.exp(-5)*np.power(5, t)/factorial(t)\n",
    "\n",
    "plt.plot(t, d)\n",
    "plt.grid()\n",
    "plt.show()"
   ]
  },
  {
   "cell_type": "markdown",
   "metadata": {},
   "source": [
    "$$\n",
    "\\begin{array}{l}{P(k, 5)=\\frac{5^{k} \\exp (-5)}{k !}} \\\\ {k=0,1, \\ldots \\infty}\\end{array}\n",
    "$$"
   ]
  },
  {
   "cell_type": "markdown",
   "metadata": {},
   "source": [
    "Не понял задание. Теоретически, все три велечины равны в данном случае \"а\", т.е. 5 (Нужны были теоретеческие выкладки?). График сдвинулся, вероятно из-за расчетов факториалов от дробных чисел, его нельзя считать достоверным. Построить правильно не удалось."
   ]
  },
  {
   "cell_type": "markdown",
   "metadata": {},
   "source": [
    "### Задача 4"
   ]
  },
  {
   "cell_type": "markdown",
   "metadata": {},
   "source": [
    "В университет на факультеты A и B поступило равное количество студентов, а на факультет C студентов поступило столько же, сколько на A и B вместе. Вероятность того, что студент факультета A сдаст первую сессию, равна 0.8. Для студента факультета B эта вероятность равна 0.7, а для студента факультета C - 0.9. Студент сдал первую сессию. Какова вероятность, что он учится: a) на факультете A? б) на факультете B? в) на факультете C?"
   ]
  },
  {
   "cell_type": "markdown",
   "metadata": {},
   "source": [
    "Пусть событие А - студент сдал сессию, событие В1 - студент учится на факультет А, событие В2 - студент учиться на факультете В, событие В3 - студент учиться на факультете С. Всего студентов - n. Тогда на факультете С - n/2, а на факультетах А и В - n/4."
   ]
  },
  {
   "cell_type": "markdown",
   "metadata": {},
   "source": [
    "Тогда $$P(B_1) = P(B_2) = 0.25$$ $$P(B_3) = 0.5$$ \n",
    "$$\n",
    "P(A)=P\\left(B_{1}\\right) \\cdot P_{B_{1}}(A)+P\\left(B_{2}\\right) \\cdot P_{B_{2}}(A)+P\\left(B_{3}\\right) \\cdot P_{B_{3}}(A) = 0.25 \\cdot 0.8 + 0.25 \\cdot 0.7 + 0.5 \\cdot 0.9 = 0.825\n",
    "$$"
   ]
  },
  {
   "cell_type": "markdown",
   "metadata": {},
   "source": [
    "$$ P(B_1|A) = \\frac {0.25 \\cdot 0.8}{0.825} = 0.(24) $$"
   ]
  },
  {
   "cell_type": "markdown",
   "metadata": {},
   "source": [
    "$$ P(B_2|A) = \\frac {0.25 \\cdot 0.7}{0.825} = 0.(21) $$"
   ]
  },
  {
   "cell_type": "markdown",
   "metadata": {},
   "source": [
    "$$ P(B_3|A) = \\frac {0.5 \\cdot 0.9}{0.825} = 0.(54) $$"
   ]
  },
  {
   "cell_type": "code",
   "execution_count": null,
   "metadata": {},
   "outputs": [],
   "source": []
  }
 ],
 "metadata": {
  "kernelspec": {
   "display_name": "Python 3",
   "language": "python",
   "name": "python3"
  },
  "language_info": {
   "codemirror_mode": {
    "name": "ipython",
    "version": 3
   },
   "file_extension": ".py",
   "mimetype": "text/x-python",
   "name": "python",
   "nbconvert_exporter": "python",
   "pygments_lexer": "ipython3",
   "version": "3.7.3"
  }
 },
 "nbformat": 4,
 "nbformat_minor": 2
}
